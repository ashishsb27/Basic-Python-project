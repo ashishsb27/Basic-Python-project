{
 "cells": [
  {
   "cell_type": "code",
   "execution_count": 1,
   "metadata": {},
   "outputs": [],
   "source": [
    "import time\n",
    "import webbrowser\n",
    "\n",
    "breaks=3\n",
    "for i in range(breaks):\n",
    "  time.sleep(10)\n",
    "  webbrowser.open('https://www.youtube.com/watch?v=4UIFRUS0YYY&ab_channel=TheVibeGuide',new=2)"
   ]
  }
 ],
 "metadata": {
  "kernelspec": {
   "display_name": "Python 3.9.5 64-bit",
   "language": "python",
   "name": "python3"
  },
  "language_info": {
   "codemirror_mode": {
    "name": "ipython",
    "version": 3
   },
   "file_extension": ".py",
   "mimetype": "text/x-python",
   "name": "python",
   "nbconvert_exporter": "python",
   "pygments_lexer": "ipython3",
   "version": "3.9.5"
  },
  "orig_nbformat": 4,
  "vscode": {
   "interpreter": {
    "hash": "2851521aa62a4285c6ee96814bc15cf3fe9023c0c97937948b166e316e807417"
   }
  }
 },
 "nbformat": 4,
 "nbformat_minor": 2
}
